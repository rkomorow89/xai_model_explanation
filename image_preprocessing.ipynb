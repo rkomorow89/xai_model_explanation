{
 "cells": [
  {
   "cell_type": "code",
   "execution_count": 3,
   "id": "5598be38",
   "metadata": {},
   "outputs": [],
   "source": [
    "import cv2\n",
    "import numpy as np\n",
    "import torch\n",
    "import os\n",
    "from tqdm import tqdm\n",
    "import re"
   ]
  },
  {
   "cell_type": "code",
   "execution_count": 9,
   "id": "7cb3b18e",
   "metadata": {},
   "outputs": [
    {
     "name": "stderr",
     "output_type": "stream",
     "text": [
      "100%|██████████| 6/6 [00:26<00:00,  4.43s/it]\n",
      "100%|██████████| 6/6 [00:04<00:00,  1.38it/s]\n"
     ]
    }
   ],
   "source": [
    "label_dict = {'buildings': 0, 'forest': 1, 'glacier': 2, 'mountain': 3, 'sea': 4, 'street': 5}\n",
    "\n",
    "for dataset in ['train', 'test']:\n",
    "\n",
    "    X = []\n",
    "    y = []\n",
    "\n",
    "    for label in tqdm(label_dict):\n",
    "        img_files = os.listdir(os.path.join('Intel_images', dataset, label))\n",
    "        img_files.sort(key=lambda f: int(re.sub('\\D', '', f)))\n",
    "        for img in img_files:\n",
    "            RGB_img = cv2.imread(os.path.join('Intel_images', dataset, label, img), cv2.COLOR_BGR2RGB)\n",
    "            if RGB_img.shape != (150,150,3):\n",
    "                pass\n",
    "            else:\n",
    "                X.append(RGB_img)\n",
    "                y.append(label_dict[label])\n",
    "\n",
    "    X = np.array(X)\n",
    "    y = np.array(y)\n",
    "\n",
    "    torch.save(X, 'X_' + dataset + '.pt')\n",
    "    torch.save(y, 'y_' + dataset + '.pt')"
   ]
  }
 ],
 "metadata": {
  "kernelspec": {
   "display_name": "Python 3",
   "language": "python",
   "name": "python3"
  },
  "language_info": {
   "codemirror_mode": {
    "name": "ipython",
    "version": 3
   },
   "file_extension": ".py",
   "mimetype": "text/x-python",
   "name": "python",
   "nbconvert_exporter": "python",
   "pygments_lexer": "ipython3",
   "version": "3.8.8"
  }
 },
 "nbformat": 4,
 "nbformat_minor": 5
}
